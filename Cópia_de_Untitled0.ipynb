{
  "nbformat": 4,
  "nbformat_minor": 0,
  "metadata": {
    "colab": {
      "provenance": [],
      "authorship_tag": "ABX9TyNgxYHlYeCct7Oz3Dw7PQ8a",
      "include_colab_link": true
    },
    "kernelspec": {
      "name": "python3",
      "display_name": "Python 3"
    },
    "language_info": {
      "name": "python"
    }
  },
  "cells": [
    {
      "cell_type": "markdown",
      "metadata": {
        "id": "view-in-github",
        "colab_type": "text"
      },
      "source": [
        "<a href=\"https://colab.research.google.com/github/lupereira1/SomaBasica/blob/main/C%C3%B3pia_de_Untitled0.ipynb\" target=\"_parent\"><img src=\"https://colab.research.google.com/assets/colab-badge.svg\" alt=\"Open In Colab\"/></a>"
      ]
    },
    {
      "cell_type": "code",
      "execution_count": null,
      "metadata": {
        "id": "Xz9RYVMDYluj",
        "colab": {
          "base_uri": "https://localhost:8080/"
        },
        "outputId": "cc9552ac-8341-4f50-9620-2a052dc66826"
      },
      "outputs": [
        {
          "output_type": "stream",
          "name": "stdout",
          "text": [
            "SOMA DE TRÊS NÚMEROS\n",
            "Informe o primeiro número:10.5\n",
            "Informe o segundo número:11.7\n",
            "Informe o terceiro número:20\n",
            "O resultado da soma é: 42.2\n"
          ]
        }
      ],
      "source": [
        "print(\"SOMA DE TRÊS NÚMEROS\")\n",
        "num1 = float(input(\"Informe o primeiro número:\"))\n",
        "num2 = float(input(\"Informe o segundo número:\"))\n",
        "num3 = float(input(\"Informe o terceiro número:\"))\n",
        "\n",
        "resultado = num1+num2+num3\n",
        "print(\"O resultado da soma é:\", resultado)"
      ]
    }
  ]
}